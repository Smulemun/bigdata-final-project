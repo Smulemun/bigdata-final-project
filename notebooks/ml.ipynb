{
 "cells": [
  {
   "cell_type": "code",
   "execution_count": 1,
   "id": "2ebfd49a-26b4-4040-889a-889f8436dd49",
   "metadata": {},
   "outputs": [],
   "source": [
    "from pyspark.ml import Transformer\n",
    "from pyspark.ml import Pipeline\n",
    "import pyspark.sql.functions as F\n",
    "from pyspark.sql.types import StringType, FloatType, IntegerType\n",
    "from pyspark.ml.feature import StringIndexer, OneHotEncoder, VectorAssembler, Word2Vec, Tokenizer, RegexTokenizer\n",
    "import math"
   ]
  },
  {
   "cell_type": "code",
   "execution_count": 2,
   "id": "6339c12a-2873-4b0b-a05b-0549fb719515",
   "metadata": {},
   "outputs": [
    {
     "data": {
      "text/html": [
       "\n",
       "            <div>\n",
       "                <p><b>SparkSession - hive</b></p>\n",
       "                \n",
       "        <div>\n",
       "            <p><b>SparkContext</b></p>\n",
       "\n",
       "            <p><a href=\"http://hadoop-01.uni.innopolis.ru:4143\">Spark UI</a></p>\n",
       "\n",
       "            <dl>\n",
       "              <dt>Version</dt>\n",
       "                <dd><code>v3.2.4</code></dd>\n",
       "              <dt>Master</dt>\n",
       "                <dd><code>yarn</code></dd>\n",
       "              <dt>AppName</dt>\n",
       "                <dd><code>16 - spark ML</code></dd>\n",
       "            </dl>\n",
       "        </div>\n",
       "        \n",
       "            </div>\n",
       "        "
      ],
      "text/plain": [
       "<pyspark.sql.session.SparkSession at 0x7f60857e9320>"
      ]
     },
     "execution_count": 2,
     "metadata": {},
     "output_type": "execute_result"
    }
   ],
   "source": [
    "from pyspark.sql import SparkSession\n",
    "\n",
    "team = 16\n",
    "nworkers = 3\n",
    "cores = 1\n",
    "warehouse = \"project/hive/warehouse\"\n",
    "\n",
    "spark = SparkSession.builder\\\n",
    "        .appName(\"{} - spark ML\".format(team))\\\n",
    "        .master(\"yarn\")\\\n",
    "        .config(\"hive.metastore.uris\", \"thrift://hadoop-02.uni.innopolis.ru:9883\")\\\n",
    "        .config(\"spark.sql.warehouse.dir\", warehouse)\\\n",
    "        .config(\"spark.sql.avro.compression.codec\", \"snappy\")\\\n",
    "        .config('spark.executor.instances', nworkers)\\\n",
    "        .config(\"spark.executor.cores\", cores)\\\n",
    "        .config(\"spark.executor.cpus\", cores)\\\n",
    "        .config(\"spark.executor.memory\", \"4g\")\\\n",
    "        .enableHiveSupport()\\\n",
    "        .getOrCreate()\n",
    "        # \n",
    "spark"
   ]
  },
  {
   "cell_type": "code",
   "execution_count": 3,
   "id": "963d0b24-2ec1-4dfe-9dca-e10f73caa0b2",
   "metadata": {},
   "outputs": [
    {
     "name": "stdout",
     "output_type": "stream",
     "text": [
      "++\n",
      "||\n",
      "++\n",
      "++\n",
      "\n",
      "+--------+-------------------+----------+-------------------+--------------------+----------+-------+---------+--------------------+-----------+\n",
      "|event_id|         event_time|product_id|        category_id|       category_code|     brand|  price|  user_id|        user_session|event_types|\n",
      "+--------+-------------------+----------+-------------------+--------------------+----------+-------+---------+--------------------+-----------+\n",
      "|42441406|2019-10-31 22:58:52|   4804409|2053013554658804075|electronics.audio...|     elari|  61.65|512831449|528d70c6-44ef-44e...|       cart|\n",
      "|42433956|2019-10-31 22:08:14|   5100570|2053013553341792533|  electronics.clocks|     apple|  447.6|520814382|06ec3176-a5c8-427...|       cart|\n",
      "|42412263|2019-10-31 20:37:34|   1005116|2053013555631882655|electronics.smart...|     apple|1013.86|515926715|f5453671-cfd2-4f7...|       cart|\n",
      "|42412081|2019-10-31 20:37:05|   1004888|2053013555631882655|electronics.smart...|   samsung| 224.46|562130094|1bf38b1f-a5d0-4f3...|       cart|\n",
      "|42407125|2019-10-31 20:24:47|  12702930|2053013553559896355|                    |  cordiant|  35.78|516726231|0ff774f1-cd3c-48b...|       cart|\n",
      "|42404853|2019-10-31 20:19:35|   1004902|2053013555631882655|electronics.smart...|      oppo| 591.91|566247089|ad89e035-0955-47f...|       cart|\n",
      "|42385729|2019-10-31 19:37:33|   4804056|2053013554658804075|electronics.audio...|     apple| 160.57|547205373|2636fa99-a739-43b...|       cart|\n",
      "|42382592|2019-10-31 19:32:41|   1004766|2053013555631882655|electronics.smart...|   samsung| 242.72|565511460|d59c2a9b-e6d1-418...|       cart|\n",
      "|42382215|2019-10-31 19:32:08|   1005014|2053013555631882655|electronics.smart...|   samsung| 503.09|515187084|40c8a253-bbde-4b1...|       cart|\n",
      "|42371400|2019-10-31 19:16:35|   7002254|2053013560346280633|       kids.carriage| wingoffly| 115.13|554229861|9206fff8-60c2-43c...|       cart|\n",
      "|42344365|2019-10-31 18:46:30|   1004767|2053013555631882655|electronics.smart...|   samsung| 242.64|566180105|767a219c-fe4b-49a...|       cart|\n",
      "|42343050|2019-10-31 18:45:10|   1005159|2053013555631882655|electronics.smart...|    xiaomi|  212.1|514609456|08c50250-a614-4d2...|       cart|\n",
      "|42341787|2019-10-31 18:43:53|   4803977|2053013554658804075|electronics.audio...|   samsung| 107.45|512934039|f0230a92-77e7-444...|       cart|\n",
      "|42341673|2019-10-31 18:43:46|   1004238|2053013555631882655|electronics.smart...|     apple|1243.78|513849031|b7b32e1c-4afe-469...|       cart|\n",
      "|42338936|2019-10-31 18:40:51|   1002544|2053013555631882655|electronics.smart...|     apple| 458.28|565491098|64314c34-5452-42f...|       cart|\n",
      "|42330148|2019-10-31 18:32:13|   1002544|2053013555631882655|electronics.smart...|     apple| 458.28|530619133|1b211a76-83c0-4ac...|       cart|\n",
      "|42324454|2019-10-31 18:26:54|   1004767|2053013555631882655|electronics.smart...|   samsung| 242.64|566214562|2569f2e4-b376-45c...|       cart|\n",
      "|42309647|2019-10-31 18:14:05|   1004781|2053013555631882655|electronics.smart...|    huawei| 254.73|549684152|83925762-aa6f-4d1...|       cart|\n",
      "|42287761|2019-10-31 17:56:22|   7900883|2053013556487520725|furniture.kitchen...|peg-perego| 280.57|559052401|9fc56e81-0b4a-40e...|       cart|\n",
      "|42253644|2019-10-31 17:31:25|   1801690|2053013554415534427|electronics.video.tv|   samsung| 369.45|515921270|125a7248-8c7a-46a...|       cart|\n",
      "+--------+-------------------+----------+-------------------+--------------------+----------+-------+---------+--------------------+-----------+\n",
      "only showing top 20 rows\n",
      "\n"
     ]
    }
   ],
   "source": [
    "spark.sql(\"USE team16_projectdb\").show()\n",
    "spark.sql(\"SELECT * FROM ecom_part_buck\").show()"
   ]
  },
  {
   "cell_type": "code",
   "execution_count": 4,
   "id": "09238c16-b4ba-4544-91be-2ac7fcf71e46",
   "metadata": {},
   "outputs": [
    {
     "name": "stdout",
     "output_type": "stream",
     "text": [
      "+-----------+--------+\n",
      "|event_types|count(1)|\n",
      "+-----------+--------+\n",
      "|       cart|   92738|\n",
      "|   purchase|   74411|\n",
      "|       view| 4076403|\n",
      "+-----------+--------+\n",
      "\n"
     ]
    }
   ],
   "source": [
    "spark.sql(\"SELECT event_types, COUNT(*) FROM ecom_part_buck GROUP BY event_types\").show()"
   ]
  },
  {
   "cell_type": "code",
   "execution_count": 5,
   "id": "2cbe2d2e-7df0-4f3f-b8c5-6552956b9929",
   "metadata": {},
   "outputs": [
    {
     "name": "stdout",
     "output_type": "stream",
     "text": [
      "root\n",
      " |-- event_id: integer (nullable = true)\n",
      " |-- event_time: timestamp (nullable = true)\n",
      " |-- product_id: integer (nullable = true)\n",
      " |-- category_id: long (nullable = true)\n",
      " |-- category_code: string (nullable = true)\n",
      " |-- brand: string (nullable = true)\n",
      " |-- price: float (nullable = true)\n",
      " |-- user_id: integer (nullable = true)\n",
      " |-- user_session: string (nullable = true)\n",
      " |-- event_types: string (nullable = true)\n",
      "\n"
     ]
    }
   ],
   "source": [
    "data = spark.read.format(\"avro\").table('team16_projectdb.ecom_part_buck')\n",
    "data.printSchema()"
   ]
  },
  {
   "cell_type": "code",
   "execution_count": 6,
   "id": "d7683c2d-b822-4b4f-aeca-209d51ef979d",
   "metadata": {},
   "outputs": [],
   "source": [
    "class CyclicTransformer(Transformer):\n",
    "    def __init__(self, input_col):\n",
    "        super(CyclicTransformer, self).__init__()\n",
    "        self.input_col = input_col\n",
    "\n",
    "    def _transform(self, df):\n",
    "        extract_year = F.udf(lambda x: x.year)\n",
    "        extract_month = F.udf(lambda x: x.month)\n",
    "        extract_day = F.udf(lambda x: x.day)\n",
    "        extract_hour = F.udf(lambda x: x.hour)\n",
    "        extract_minute = F.udf(lambda x: x.minute)\n",
    "        extract_second = F.udf(lambda x: x.second)\n",
    "\n",
    "        return df.withColumn('year', extract_year(self.input_col))\\\n",
    "                 .withColumn('month', extract_month(self.input_col))\\\n",
    "                 .withColumn('day', extract_day(self.input_col))\\\n",
    "                 .withColumn('hour', extract_hour(self.input_col))\\\n",
    "                 .withColumn('minute', extract_minute(self.input_col))\\\n",
    "                 .withColumn('second', extract_second(self.input_col))\\\n",
    "                 .withColumn('month_sin', F.sin(F.col('month') * 2 * math.pi / 12))\\\n",
    "                 .withColumn('month_cos', F.cos(F.col('month') * 2 * math.pi / 12))\\\n",
    "                 .withColumn('day_sin', F.sin(F.col('day') * 2 * math.pi / 31))\\\n",
    "                 .withColumn('day_cos', F.cos(F.col('day') * 2 * math.pi / 31))\\\n",
    "                 .withColumn('hour_sin', F.sin(F.col('hour') * 2 * math.pi / 24))\\\n",
    "                 .withColumn('hour_cos', F.cos(F.col('hour') * 2 * math.pi / 24))\\\n",
    "                 .withColumn('minute_sin', F.sin(F.col('minute') * 2 * math.pi / 60))\\\n",
    "                 .withColumn('minute_cos', F.cos(F.col('minute') * 2 * math.pi / 60))\\\n",
    "                 .withColumn('second_sin', F.sin(F.col('second') * 2 * math.pi / 60))\\\n",
    "                 .withColumn('second_cos', F.cos(F.col('second') * 2 * math.pi / 60))\\\n",
    "                 .drop(self.input_col).drop('month').drop('day')\\\n",
    "                 .drop('hour').drop('minute').drop('second')"
   ]
  },
  {
   "cell_type": "code",
   "execution_count": 7,
   "id": "ee9ac9bf-780b-4fb1-bb07-b851711f90e1",
   "metadata": {},
   "outputs": [
    {
     "name": "stdout",
     "output_type": "stream",
     "text": [
      "+--------+----------+-------------------+--------------------+-----+-----+---------+--------------------+-----------+----+-------------------+------------------+--------------------+-------+-------------------+------------------+--------------------+------------------+------------------+------------------+\n",
      "|event_id|product_id|        category_id|       category_code|brand|price|  user_id|        user_session|event_types|year|          month_sin|         month_cos|             day_sin|day_cos|           hour_sin|          hour_cos|          minute_sin|        minute_cos|        second_sin|        second_cos|\n",
      "+--------+----------+-------------------+--------------------+-----+-----+---------+--------------------+-----------+----+-------------------+------------------+--------------------+-------+-------------------+------------------+--------------------+------------------+------------------+------------------+\n",
      "|42441406|   4804409|2053013554658804075|electronics.audio...|elari|61.65|512831449|528d70c6-44ef-44e...|       cart|2019|-0.8660254037844386|0.5000000000000001|-2.44929359829470...|    1.0|-0.5000000000000004|0.8660254037844384|-0.20791169081775898|0.9781476007338057|-0.743144825477394|0.6691306063588585|\n",
      "+--------+----------+-------------------+--------------------+-----+-----+---------+--------------------+-----------+----+-------------------+------------------+--------------------+-------+-------------------+------------------+--------------------+------------------+------------------+------------------+\n",
      "only showing top 1 row\n",
      "\n"
     ]
    }
   ],
   "source": [
    "cyclic_trans = CyclicTransformer('event_time')\n",
    "data = cyclic_trans.transform(data)\n",
    "data.show(1)"
   ]
  },
  {
   "cell_type": "code",
   "execution_count": 8,
   "id": "12a9d48c-65d9-4572-8e24-3094f2e67b6e",
   "metadata": {},
   "outputs": [],
   "source": [
    "data = data.na.drop(subset=data.columns)\n",
    "data = data.filter(data.brand != '')\n",
    "data = data.filter(data.category_code != '')"
   ]
  },
  {
   "cell_type": "code",
   "execution_count": 9,
   "id": "2b8bcc0d-6821-4748-8a1f-d8c13797f126",
   "metadata": {},
   "outputs": [
    {
     "data": {
      "text/plain": [
       "2654471"
      ]
     },
     "execution_count": 9,
     "metadata": {},
     "output_type": "execute_result"
    }
   ],
   "source": [
    "data.count()"
   ]
  },
  {
   "cell_type": "markdown",
   "id": "2af78813-7816-4944-ba95-db938f282641",
   "metadata": {},
   "source": [
    "data.groupBy(\"category_code\").count().withColumnRenamed(\"count\", \"num\").orderBy(F.col(\"num\").desc()).show(20)"
   ]
  },
  {
   "cell_type": "code",
   "execution_count": 10,
   "id": "677dc8d3-03e0-40b9-be4d-b7c8091789cb",
   "metadata": {},
   "outputs": [
    {
     "name": "stdout",
     "output_type": "stream",
     "text": [
      "root\n",
      " |-- event_id: integer (nullable = true)\n",
      " |-- product_id: integer (nullable = true)\n",
      " |-- category_id: long (nullable = true)\n",
      " |-- category_code: string (nullable = true)\n",
      " |-- brand: string (nullable = true)\n",
      " |-- price: float (nullable = true)\n",
      " |-- user_id: integer (nullable = true)\n",
      " |-- user_session: string (nullable = true)\n",
      " |-- year: string (nullable = true)\n",
      " |-- month_sin: double (nullable = true)\n",
      " |-- month_cos: double (nullable = true)\n",
      " |-- day_sin: double (nullable = true)\n",
      " |-- day_cos: double (nullable = true)\n",
      " |-- hour_sin: double (nullable = true)\n",
      " |-- hour_cos: double (nullable = true)\n",
      " |-- minute_sin: double (nullable = true)\n",
      " |-- minute_cos: double (nullable = true)\n",
      " |-- second_sin: double (nullable = true)\n",
      " |-- second_cos: double (nullable = true)\n",
      " |-- rating: integer (nullable = true)\n",
      "\n"
     ]
    }
   ],
   "source": [
    "event_type_to_rating = F.udf(lambda x: 1 if x == 'purchase' else 0 if x == 'cart' else -1, IntegerType())\n",
    "data = data.withColumn('rating', event_type_to_rating('event_types')).drop('event_types')\n",
    "data.printSchema()"
   ]
  },
  {
   "cell_type": "code",
   "execution_count": 11,
   "id": "abb0bc08-11fd-4174-a40e-b226babc4219",
   "metadata": {},
   "outputs": [],
   "source": [
    "# brand preprocessing: take only popular brands (> 10000 interactions)\n",
    "\n",
    "brand_counts = data.groupBy(\"brand\").count()\n",
    "rare_brands = brand_counts.filter(F.col(\"count\") < 10000).select(\"brand\").rdd.flatMap(lambda x: x).collect()\n",
    "data = data.withColumn(\"brand\", F.when(F.col(\"brand\").isin(rare_brands), \"other\").otherwise(F.col(\"brand\")))"
   ]
  },
  {
   "cell_type": "code",
   "execution_count": 12,
   "id": "fcf60d01-71cf-4d53-a874-6728442134c5",
   "metadata": {},
   "outputs": [],
   "source": [
    "# one hot encoding of brand\n",
    "\n",
    "indexer = StringIndexer(inputCol='brand', outputCol=\"brand_indexed\")\n",
    "oh_encoder = OneHotEncoder(inputCol=indexer.getOutputCol(), outputCol=\"brand_encoded\")\n",
    "\n",
    "brand_pipeline = Pipeline(stages=[indexer, oh_encoder]).fit(data)\n",
    "data = brand_pipeline.transform(data)"
   ]
  },
  {
   "cell_type": "code",
   "execution_count": 13,
   "id": "e8d45f6e-c636-4731-9e58-dd3337c91e65",
   "metadata": {},
   "outputs": [],
   "source": [
    "train_data, test_data = data.randomSplit([0.6, 0.4])"
   ]
  },
  {
   "cell_type": "code",
   "execution_count": 14,
   "id": "eb281e6c-43c8-4a73-a981-90155527568b",
   "metadata": {},
   "outputs": [
    {
     "name": "stdout",
     "output_type": "stream",
     "text": [
      "+--------+----------+-------------------+--------------------+--------+------+---------+--------------------+----+-------------------+------------------+--------------------+-------------------+-------------------+--------------------+--------------------+--------------------+--------------------+--------------------+------+-------------+---------------+-----------+\n",
      "|event_id|product_id|        category_id|       category_code|   brand| price|  user_id|        user_session|year|          month_sin|         month_cos|             day_sin|            day_cos|           hour_sin|            hour_cos|          minute_sin|          minute_cos|          second_sin|          second_cos|rating|brand_indexed|  brand_encoded| prediction|\n",
      "+--------+----------+-------------------+--------------------+--------+------+---------+--------------------+----+-------------------+------------------+--------------------+-------------------+-------------------+--------------------+--------------------+--------------------+--------------------+--------------------+------+-------------+---------------+-----------+\n",
      "| 4158394|   1004739|2053013555631882655|electronics.smart...|  xiaomi| 196.6|437548958|6ab3e21a-5d98-48d...|2019|-0.8660254037844386|0.5000000000000001|    0.72479278722912| 0.6889669190756866|0.49999999999999994| -0.8660254037844387| -0.3090169943749473| -0.9510565162951536|  0.7431448254773942|  0.6691306063588582|    -1|          3.0| (33,[3],[1.0])| -0.5804962|\n",
      "|33736648|   1004739|2053013555631882655|electronics.smart...|  xiaomi|189.97|484418960|7bc3fbe2-ce84-48b...|2019|-0.8660254037844386|0.5000000000000001| -0.9377521321470804| 0.3473052528448203| 0.9659258262890683|-0.25881904510252063|-0.20791169081775898|  0.9781476007338057| -0.9781476007338056| 0.20791169081775943|    -1|          3.0| (33,[3],[1.0])|-0.90522426|\n",
      "|36254117|   1004739|2053013555631882655|electronics.smart...|  xiaomi|193.03|496058339|931c0021-d1ed-4ad...|2019|-0.8660254037844386|0.5000000000000001|   -0.72479278722912| 0.6889669190756865| 0.8660254037844386|  0.5000000000000001| 0.10452846326765329| -0.9945218953682734| -0.9135454576426011| 0.40673664307579976|    -1|          3.0| (33,[3],[1.0])| -0.9502499|\n",
      "|42100006|   1004739|2053013555631882655|electronics.smart...|  xiaomi|203.09|500109513|e1ef8cfa-997c-466...|2019|-0.8660254037844386|0.5000000000000001|-2.44929359829470...|                1.0|-0.7071067811865471| -0.7071067811865479| -0.8090169943749476|  0.5877852522924729|-0.20791169081775898|  0.9781476007338057|    -1|          3.0| (33,[3],[1.0])| -0.3854067|\n",
      "|23568336|   1005158|2053013555631882655|electronics.smart...|  xiaomi|316.58|501371391|2d346cf7-85d6-4e5...|2019|-0.8660254037844386|0.5000000000000001| -0.4853019625310808|-0.8743466161445822| 0.9659258262890683| 0.25881904510252074|  0.8090169943749475|  -0.587785252292473|  0.9781476007338057|-0.20791169081775934|    -1|          3.0| (33,[3],[1.0])|-0.90656215|\n",
      "|19171982|   1005158|2053013555631882655|electronics.smart...|  xiaomi|295.99|501371391|2be08b96-7c0b-442...|2019|-0.8660254037844386|0.5000000000000001| 0.10116832198743272| -0.994869323391895|                1.0|6.123233995736766...|  0.6691306063588582|  0.7431448254773942|-0.49999999999999967|  0.8660254037844388|    -1|          3.0| (33,[3],[1.0])|-0.90656215|\n",
      "| 4770132|   1005158|2053013555631882655|electronics.smart...|  xiaomi|308.63|501371391|9d317eba-9769-413...|2019|-0.8660254037844386|0.5000000000000001|    0.72479278722912| 0.6889669190756866|-0.9659258262890683|-0.25881904510252063|  0.5877852522924732| -0.8090169943749473| -0.6691306063588581|  0.7431448254773942|    -1|          3.0| (33,[3],[1.0])|-0.90656215|\n",
      "|34412840|   3701387|2053013565983425517|appliances.enviro...|dauscher| 43.73|512363656|0b5a9087-ec6f-42a...|2019|-0.8660254037844386|0.5000000000000001| -0.9377521321470804| 0.3473052528448203|-0.8660254037844385| -0.5000000000000004|  0.5877852522924731|  0.8090169943749475|  0.6691306063588582|  0.7431448254773942|    -1|         22.0|(33,[22],[1.0])|   0.525587|\n",
      "|   87879|   3100161|2053013555262783879|appliances.kitche...|   other| 79.77|512363659|27ae5d95-91ba-478...|2019|-0.8660254037844386|0.5000000000000001| 0.20129852008866006| 0.9795299412524945| 0.8660254037844386|  0.5000000000000001|                 1.0|2.83276944882399E-16| -0.6691306063588582| -0.7431448254773942|    -1|          0.0| (33,[0],[1.0])| 0.08763365|\n",
      "|22590707|   1004739|2053013555631882655|electronics.smart...|  xiaomi|196.86|512363947|1124984e-6300-4b7...|2019|-0.8660254037844386|0.5000000000000001| -0.2993631229733582|-0.9541392564000488|0.49999999999999994| -0.8660254037844387|  -0.743144825477394|  0.6691306063588585|  0.6691306063588583| -0.7431448254773941|    -1|          3.0| (33,[3],[1.0])| -0.9502499|\n",
      "|26718833|   1005158|2053013555631882655|electronics.smart...|  xiaomi|329.46|512364027|a0f02429-b339-420...|2019|-0.8660254037844386|0.5000000000000001| -0.7907757369376986|-0.6121059825476627| 0.9659258262890683|-0.25881904510252063| -0.8090169943749473| -0.5877852522924732|  0.9945218953682733| 0.10452846326765346|    -1|          3.0| (33,[3],[1.0])|  0.7666519|\n",
      "|24378167|   2702332|2053013563911439225|appliances.kitche...|      lg|514.63|512365995|f8b0609a-76ca-4a3...|2019|-0.8660254037844386|0.5000000000000001| -0.4853019625310808|-0.8743466161445822|-0.7071067811865471| -0.7071067811865479|  0.5877852522924731|  0.8090169943749475|  0.9945218953682734|-0.10452846326765333|    -1|          5.0| (33,[5],[1.0])|  1.5075703|\n",
      "|20001511|   1004739|2053013555631882655|electronics.smart...|  xiaomi|189.71|512367611|eec39826-6b54-4ce...|2019|-0.8660254037844386|0.5000000000000001| 0.10116832198743272| -0.994869323391895|-0.7071067811865471| -0.7071067811865479|  0.8090169943749475|  -0.587785252292473| -0.5877852522924734|  0.8090169943749473|    -1|          3.0| (33,[3],[1.0])|-0.40915304|\n",
      "|22993639|   1004739|2053013555631882655|electronics.smart...|  xiaomi|193.03|512367611|bcc1f41e-2fa2-439...|2019|-0.8660254037844386|0.5000000000000001| -0.2993631229733582|-0.9541392564000488|-0.7071067811865471| -0.7071067811865479| -0.8090169943749476|  0.5877852522924729|-0.10452846326765305| -0.9945218953682734|    -1|          3.0| (33,[3],[1.0])|-0.40915304|\n",
      "|30185700|   1004739|2053013555631882655|electronics.smart...|  xiaomi|189.97|512367611|0b4e9ea6-d138-4ef...|2019|-0.8660254037844386|0.5000000000000001| -0.9680771188662041|-0.2506525322587213|-0.7071067811865471| -0.7071067811865479|  0.9135454576426009|  0.4067366430758004| 0.49999999999999994|  0.8660254037844387|    -1|          3.0| (33,[3],[1.0])|-0.40915304|\n",
      "|23038617|   1004739|2053013555631882655|electronics.smart...|  xiaomi|193.03|512368034|83579f4c-17fd-4ce...|2019|-0.8660254037844386|0.5000000000000001| -0.2993631229733582|-0.9541392564000488|-0.8660254037844385| -0.5000000000000004|  0.9781476007338057|-0.20791169081775934| 0.10452846326765329| -0.9945218953682734|    -1|          3.0| (33,[3],[1.0])| -0.9502499|\n",
      "|11427657|   1004739|2053013555631882655|electronics.smart...|  xiaomi|189.94|512374219|94cbc6c3-4c3a-4c3...|2019|-0.8660254037844386|0.5000000000000001|  0.9680771188662043|-0.2506525322587204|               -1.0|-1.83697019872102...|  0.3090169943749475| -0.9510565162951535| 0.20791169081775931|  0.9781476007338057|    -1|          3.0| (33,[3],[1.0])|-0.74336344|\n",
      "|16376645|  21800245|2053013552637149417|computers.periphe...|   other| 36.58|512375019|9a649ffd-3ae9-4e4...|2019|-0.8660254037844386|0.5000000000000001| 0.48530196253108104|-0.8743466161445821| 0.7071067811865476| -0.7071067811865475|  0.6691306063588582|  0.7431448254773942| -0.8090169943749473| -0.5877852522924732|    -1|          0.0| (33,[0],[1.0])|  1.9782524|\n",
      "|27311111|   1004739|2053013555631882655|electronics.smart...|  xiaomi|187.89|512376016|99142730-d73a-4be...|2019|-0.8660254037844386|0.5000000000000001| -0.7907757369376986|-0.6121059825476627|-0.4999999999999997| -0.8660254037844388| -0.9510565162951536| 0.30901699437494723|  -0.587785252292473| -0.8090169943749475|    -1|          3.0| (33,[3],[1.0])| 0.12654178|\n",
      "|14727468|   1004739|2053013555631882655|electronics.smart...|  xiaomi|187.96|512379013|3f956fa4-5ccd-484...|2019|-0.8660254037844386|0.5000000000000001|  0.6513724827222223|-0.7587581226927909| 0.9659258262890683|-0.25881904510252063|  0.6691306063588583| -0.7431448254773941| -0.3090169943749473| -0.9510565162951536|    -1|          3.0| (33,[3],[1.0])| -0.8843584|\n",
      "+--------+----------+-------------------+--------------------+--------+------+---------+--------------------+----+-------------------+------------------+--------------------+-------------------+-------------------+--------------------+--------------------+--------------------+--------------------+--------------------+------+-------------+---------------+-----------+\n",
      "only showing top 20 rows\n",
      "\n"
     ]
    }
   ],
   "source": [
    "from pyspark.ml.evaluation import RegressionEvaluator \n",
    "from pyspark.ml.recommendation import ALS \n",
    "\n",
    "als = ALS(maxIter=5,\n",
    "          regParam=0.01,\n",
    "          userCol=\"user_id\",\n",
    "          itemCol=\"product_id\",\n",
    "          ratingCol=\"rating\",\n",
    "          coldStartStrategy=\"drop\")\n",
    "\n",
    "als_model = als.fit(train_data)\n",
    "\n",
    "predictions = als_model.transform(test_data)\n",
    "\n",
    "predictions.show()"
   ]
  },
  {
   "cell_type": "code",
   "execution_count": 16,
   "id": "03aff356-4642-4583-93cb-b051aec1ad6e",
   "metadata": {},
   "outputs": [
    {
     "name": "stdout",
     "output_type": "stream",
     "text": [
      "Root-mean-square error = 0.8773887814449642\n",
      "R2 = -5.796755412196162\n"
     ]
    }
   ],
   "source": [
    "evaluator = RegressionEvaluator(labelCol=\"rating\", predictionCol=\"prediction\")\n",
    "rmse = evaluator.evaluate(predictions, {evaluator.metricName: \"rmse\"})\n",
    "r2 = evaluator.evaluate(predictions, {evaluator.metricName: \"r2\"})\n",
    "print(\"Root-mean-square error = \" + str(rmse) + '\\n' + 'R2 = ' + str(r2))"
   ]
  },
  {
   "cell_type": "code",
   "execution_count": 17,
   "id": "0f9b1083-dc1e-46b3-ab92-b6ebb916b1d7",
   "metadata": {},
   "outputs": [],
   "source": [
    "spark.stop()"
   ]
  }
 ],
 "metadata": {
  "kernelspec": {
   "display_name": "Pyspark 3",
   "language": "python",
   "name": "python3"
  },
  "language_info": {
   "codemirror_mode": {
    "name": "ipython",
    "version": 3
   },
   "file_extension": ".py",
   "mimetype": "text/x-python",
   "name": "python",
   "nbconvert_exporter": "python",
   "pygments_lexer": "ipython3",
   "version": "3.6.8"
  }
 },
 "nbformat": 4,
 "nbformat_minor": 5
}
